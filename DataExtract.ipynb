{
 "cells": [
  {
   "cell_type": "code",
   "execution_count": 12,
   "metadata": {},
   "outputs": [],
   "source": [
    "import keras \n",
    "import pandas as pd\n",
    "import matplotlib.pyplot as plt \n",
    "import keras \n",
    "from keras.preprocessing.image import ImageDataGenerator\n",
    "from keras.preprocessing import image \n",
    "import os\n",
    "import numpy as np\n",
    "import h5py\n",
    "import math\n",
    "import dlib\n",
    "import cv2\n",
    "import easydict\n",
    "import csv\n",
    "import pandas as pd\n",
    "from sklearn.model_selection import train_test_split\n",
    "from sklearn.preprocessing import LabelEncoder,OneHotEncoder "
   ]
  },
  {
   "cell_type": "code",
   "execution_count": 3,
   "metadata": {},
   "outputs": [],
   "source": [
    "args={\"shape_predictor\":\"shape_predictor_68_face_landmarks.dat\"}"
   ]
  },
  {
   "cell_type": "code",
   "execution_count": 4,
   "metadata": {},
   "outputs": [],
   "source": [
    "detector=dlib.get_frontal_face_detector()\n",
    "predictor=dlib.shape_predictor(args[\"shape_predictor\"])"
   ]
  },
  {
   "cell_type": "code",
   "execution_count": 5,
   "metadata": {},
   "outputs": [],
   "source": [
    "def rect_to_bb(rect):\n",
    "    x=rect.left()\n",
    "    y=rect.top()\n",
    "    w=rect.right()-x\n",
    "    h=rect.bottom()-y\n",
    "    return (x,y,w,h)"
   ]
  },
  {
   "cell_type": "code",
   "execution_count": 6,
   "metadata": {},
   "outputs": [],
   "source": [
    "def shape_to_np(shape,dtype='int'):\n",
    "    coords=np.zeros((68,2),dtype=dtype)\n",
    "    for i in range(0,68):\n",
    "        coords[i]=(shape.part(i).x,shape.part(i).y)\n",
    "    return coords"
   ]
  },
  {
   "cell_type": "code",
   "execution_count": 7,
   "metadata": {},
   "outputs": [],
   "source": [
    "def preprocess_dis(dis_array):\n",
    "    x=dis_array-np.mean(dis_array)\n",
    "    if np.std(dis_array)!=0:\n",
    "        x/=np.std(dis_array)\n",
    "    return x"
   ]
  },
  {
   "cell_type": "code",
   "execution_count": 8,
   "metadata": {},
   "outputs": [],
   "source": [
    "def convert_points_to_distance(points):\n",
    "\n",
    "    mid_x=(points[14,0]+points[18,0])/2\n",
    "    mid_y=(points[14,1]+points[18,1])/2\n",
    "    mid_point=np.array([mid_x,mid_y])\n",
    "    points=(points-mid_point)**2\n",
    "    distances_array=np.sqrt((points[:,0]+points[:,1]))\n",
    "    \n",
    "    return preprocess_dis(distances_array)\n",
    "    "
   ]
  },
  {
   "cell_type": "code",
   "execution_count": 9,
   "metadata": {},
   "outputs": [],
   "source": [
    "def face_landmarks(image):\n",
    "    #all_images=[]\n",
    "    #for image in images:\n",
    "    gray=cv2.cvtColor(image,cv2.COLOR_BGR2GRAY)\n",
    "    rects=detector(gray,1)\n",
    "    shape=np.zeros((20,2))\n",
    "    for rect in rects:\n",
    "        shape=predictor(gray,rect)\n",
    "        shape=shape_to_np(shape)\n",
    "        shape=shape[48:68]\n",
    "    #all_images.append(shape)\n",
    "\n",
    "    return shape   "
   ]
  },
  {
   "cell_type": "code",
   "execution_count": 10,
   "metadata": {},
   "outputs": [],
   "source": [
    "def empty_distance(number):\n",
    "    shape=np.zeros((20,number))\n",
    "    return shape"
   ]
  },
  {
   "cell_type": "code",
   "execution_count": 11,
   "metadata": {},
   "outputs": [],
   "source": [
    "lip_data = []"
   ]
  },
  {
   "cell_type": "code",
   "execution_count": null,
   "metadata": {},
   "outputs": [],
   "source": [
    "labels=[]\n",
    "datagen=ImageDataGenerator()\n",
    "train_dir=\"C:\\\\Users\\\\this pc\\\\Desktop\\\\Minor\\\\Data\"\n",
    "for label in os.listdir(train_dir):\n",
    "    labels_dir=os.path.join(train_dir,label)\n",
    "    for repeat in os.listdir(labels_dir):       \n",
    "        word_dir=os.path.join(labels_dir,repeat)\n",
    "        for sub in os.listdir(word_dir):\n",
    "            first_dir = os.path.join(word_dir, sub)\n",
    "            print(repeat)\n",
    "            if(repeat == \"phrases\"):\n",
    "                val = \"P\"\n",
    "            else:\n",
    "                val = \"W\"\n",
    "            for sec_sub in os.listdir(first_dir):\n",
    "                sec_dir = os.path.join(first_dir, sec_sub)\n",
    "                print(\"currently in %\", sec_dir)\n",
    "                images_array=[]\n",
    "                num_images=0\n",
    "                for image_dir in os.listdir(sec_dir):\n",
    "                    if num_images==10:\n",
    "                        break\n",
    "                    image=cv2.imread(os.path.join(sec_dir,image_dir))\n",
    "                    points=face_landmarks(image)\n",
    "                    points=convert_points_to_distance(points)\n",
    "                    #if points is not None:\n",
    "                    images_array.append(points)\n",
    "                    print(points)\n",
    "                    num_images=num_images+1\n",
    "                if num_images<10:\n",
    "                    np.append(images_array,empty_distance(10-num_images))\n",
    "                lip_data=np.append(lip_data,np.array(images_array))\n",
    "                label1 = str(val) + str(int(sub)-1)\n",
    "                labels.append(label1)\n",
    "lip_data=lip_data.reshape(400,10,20)"
   ]
  },
  {
   "cell_type": "code",
   "execution_count": null,
   "metadata": {},
   "outputs": [],
   "source": [
    "data_order = 'tf'"
   ]
  },
  {
   "cell_type": "code",
   "execution_count": null,
   "metadata": {},
   "outputs": [],
   "source": [
    "data_shape = (len(lip_data), 10, 20)"
   ]
  },
  {
   "cell_type": "code",
   "execution_count": null,
   "metadata": {},
   "outputs": [],
   "source": [
    "hdf5_file = h5py.File(hdf5_path, mode='w')"
   ]
  }
 ],
 "metadata": {
  "kernelspec": {
   "display_name": "Python 3",
   "language": "python",
   "name": "python3"
  },
  "language_info": {
   "codemirror_mode": {
    "name": "ipython",
    "version": 3
   },
   "file_extension": ".py",
   "mimetype": "text/x-python",
   "name": "python",
   "nbconvert_exporter": "python",
   "pygments_lexer": "ipython3",
   "version": "3.5.6"
  },
  "widgets": {
   "state": {},
   "version": "1.1.2"
  }
 },
 "nbformat": 4,
 "nbformat_minor": 2
}
