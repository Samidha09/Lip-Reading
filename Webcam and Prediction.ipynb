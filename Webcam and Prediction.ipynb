{
 "cells": [
  {
   "cell_type": "code",
   "execution_count": 1,
   "metadata": {},
   "outputs": [],
   "source": [
    "import numpy as np\n",
    "import pandas as pd\n",
    "import matplotlib.pyplot as plt\n",
    "import dlib\n",
    "from imutils import face_utils\n",
    "import argparse\n",
    "import imutils\n",
    "import cv2\n",
    "import easydict\n",
    "import keyboard"
   ]
  },
  {
   "cell_type": "code",
   "execution_count": 2,
   "metadata": {},
   "outputs": [],
   "source": [
    "def rect_to_bb(rect):\n",
    "    x=rect.left()\n",
    "    y=rect.top()\n",
    "    w=rect.right()-x\n",
    "    h=rect.bottom()-y\n",
    "    \n",
    "    return (x,y,w,h)"
   ]
  },
  {
   "cell_type": "code",
   "execution_count": 3,
   "metadata": {},
   "outputs": [],
   "source": [
    "def shape_to_np(shape,dtype='int'):\n",
    "    coords=np.zeros((68,2),dtype=dtype)\n",
    "    for i in range(0,68):\n",
    "        coords[i]=(shape.part(i).x,shape.part(i).y)\n",
    "        \n",
    "    return coords"
   ]
  },
  {
   "cell_type": "code",
   "execution_count": 4,
   "metadata": {},
   "outputs": [],
   "source": [
    "args={\n",
    "    \"shape_predictor\":\"shape_predictor_68_face_landmarks.dat\",\n",
    "    \"image\":\"img3.jpg\"\n",
    "}"
   ]
  },
  {
   "cell_type": "code",
   "execution_count": 5,
   "metadata": {},
   "outputs": [],
   "source": [
    "detector=dlib.get_frontal_face_detector()\n",
    "predictor=dlib.shape_predictor(args[\"shape_predictor\"])"
   ]
  },
  {
   "cell_type": "code",
   "execution_count": 6,
   "metadata": {},
   "outputs": [],
   "source": [
    "cap=cv2.VideoCapture(0)\n",
    "\n",
    "while not keyboard.is_pressed('q'):\n",
    "    ret,frame=cap.read()\n",
    "    #print(ret)\n",
    "    frame=imutils.resize(frame,width=500)\n",
    "    #frame=cv2.imread(\"color_001.jpg\")\n",
    "    gray=cv2.cvtColor(frame,cv2.COLOR_BGR2GRAY)\n",
    "    rects=detector(gray,1)\n",
    "    for rect in rects:\n",
    "        shape=predictor(gray,rect)\n",
    "        shape=shape_to_np(shape)\n",
    "        \n",
    "        (x,y,w,h)=rect_to_bb(rect)\n",
    "        cv2.rectangle(frame,(x,y),(x+w,y+h),(0,255,0),2)\n",
    "        for x,y in shape[48:68]:#[50,51,52,53,54]]:\n",
    "            cv2.circle(frame,(x,y),1,(0,0,255),-1)\n",
    "            \n",
    "    cv2.namedWindow(\"output\",cv2.WINDOW_FULLSCREEN)\n",
    "    cv2.setWindowProperty(\"output\",cv2.WND_PROP_FULLSCREEN,cv2.WINDOW_FULLSCREEN)\n",
    "    cv2.imshow(\"output\",frame)\n",
    "    cv2.waitKey(1)\n",
    "    \n",
    "cv2.destroyAllWindows()\n",
    "cap.release()\n"
   ]
  },
  {
   "cell_type": "code",
   "execution_count": null,
   "metadata": {},
   "outputs": [],
   "source": []
  }
 ],
 "metadata": {
  "kernelspec": {
   "display_name": "Python 3",
   "language": "python",
   "name": "python3"
  },
  "language_info": {
   "codemirror_mode": {
    "name": "ipython",
    "version": 3
   },
   "file_extension": ".py",
   "mimetype": "text/x-python",
   "name": "python",
   "nbconvert_exporter": "python",
   "pygments_lexer": "ipython3",
   "version": "3.5.6"
  },
  "widgets": {
   "state": {},
   "version": "1.1.2"
  }
 },
 "nbformat": 4,
 "nbformat_minor": 2
}
